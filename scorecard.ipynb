{
 "cells": [
  {
   "cell_type": "code",
   "execution_count": 1,
   "metadata": {},
   "outputs": [],
   "source": [
    "import numpy as np\n",
    "import pandas as pd\n",
    "\n",
    "from sklearn.linear_model import LogisticRegression\n",
    "\n",
    "from optbinning import BinningProcess\n",
    "from optbinning import Scorecard\n",
    "from optbinning.scorecard import plot_auc_roc, plot_cap, plot_ks\n",
    "\n",
    "from sklearn.model_selection import train_test_split\n",
    "from sklearn import metrics\n",
    "\n",
    "import matplotlib.pyplot as plt"
   ]
  },
  {
   "cell_type": "code",
   "execution_count": 2,
   "metadata": {},
   "outputs": [
    {
     "name": "stdout",
     "output_type": "stream",
     "text": [
      "--2021-11-08 18:04:58--  https://archive.ics.uci.edu/ml/machine-learning-databases/adult/adult.data\n",
      "Resolving archive.ics.uci.edu (archive.ics.uci.edu)... 128.195.10.252\n",
      "Connecting to archive.ics.uci.edu (archive.ics.uci.edu)|128.195.10.252|:443... connected.\n",
      "HTTP request sent, awaiting response... 200 OK\n",
      "Length: 3974305 (3.8M) [application/x-httpd-php]\n",
      "Saving to: ‘adult.data.1’\n",
      "\n",
      "adult.data.1        100%[===================>]   3.79M  4.70MB/s    in 0.8s    \n",
      "\n",
      "2021-11-08 18:04:59 (4.70 MB/s) - ‘adult.data.1’ saved [3974305/3974305]\n",
      "\n"
     ]
    }
   ],
   "source": [
    "##Grab the adult dataset\n",
    "\n",
    "!wget https://archive.ics.uci.edu/ml/machine-learning-databases/adult/adult.data\n",
    "names = ['age', 'workclass', 'fnlwgt', 'education', 'education_num', \n",
    "                 'marital_status', 'occupation', 'relationship', 'race', 'sex', \n",
    "                 'capital_gain', 'capital_loss', 'hours_per_week', \n",
    "                 'native_country', 'income']\n",
    "\n",
    "df = pd.read_csv('adult.data', header=None, names=names, na_values=['?', ' ?'])\n",
    "#create a binary target\n",
    "df['income_label'] = (df[\"income\"].apply(lambda x: \">50K\" in x)).astype(int)\n",
    "df.drop('income', axis=1, inplace=True)\n",
    "\n",
    "target_col = 'income_label'\n",
    "target = df[target_col].values\n",
    "\n",
    "X_train, X_test, y_train, y_test = train_test_split(df, target, test_size=0.25,random_state=1)"
   ]
  },
  {
   "cell_type": "code",
   "execution_count": 3,
   "metadata": {},
   "outputs": [],
   "source": [
    "##Set binning for features, adding more bins can add more accuracy\n",
    "binning_process = BinningProcess(list(X_train.columns),max_n_bins=2)"
   ]
  },
  {
   "cell_type": "code",
   "execution_count": 4,
   "metadata": {},
   "outputs": [
    {
     "data": {
      "text/plain": [
       "Scorecard(binning_process=BinningProcess(max_n_bins=2,\n",
       "                                         variable_names=['age', 'workclass',\n",
       "                                                         'fnlwgt', 'education',\n",
       "                                                         'education_num',\n",
       "                                                         'marital_status',\n",
       "                                                         'occupation',\n",
       "                                                         'relationship', 'race',\n",
       "                                                         'sex', 'capital_gain',\n",
       "                                                         'capital_loss',\n",
       "                                                         'hours_per_week',\n",
       "                                                         'native_country',\n",
       "                                                         'income_label']),\n",
       "          estimator=LogisticRegression(class_weight='balanced'),\n",
       "          reverse_scorecard=True, rounding=True, scaling_method='min_max',\n",
       "          scaling_method_params={'max': 100, 'min': 0})"
      ]
     },
     "execution_count": 4,
     "metadata": {},
     "output_type": "execute_result"
    }
   ],
   "source": [
    "estimator = LogisticRegression(solver=\"lbfgs\", class_weight=\"balanced\",penalty='l2')\n",
    "\n",
    "scorecard = Scorecard(binning_process=binning_process,\n",
    "                      estimator=estimator, \n",
    "                      scaling_method=\"min_max\",\n",
    "                      rounding=True,\n",
    "                      scaling_method_params={\"min\": 0, \"max\": 100},reverse_scorecard=True)\n",
    "                      \n",
    "scorecard.fit(X_train, y_train)"
   ]
  },
  {
   "cell_type": "code",
   "execution_count": 5,
   "metadata": {},
   "outputs": [
    {
     "name": "stdout",
     "output_type": "stream",
     "text": [
      "optbinning (Version 0.13.0)\n",
      "Copyright (c) 2019-2021 Guillermo Navas-Palencia, Apache License 2.0\n",
      "\n",
      "  Begin options\n",
      "    binning_process                      yes   * U\n",
      "    estimator                            yes   * U\n",
      "    scaling_method                   min_max   * U\n",
      "    scaling_method_params                yes   * U\n",
      "    intercept_based                    False   * d\n",
      "    reverse_scorecard                   True   * U\n",
      "    rounding                            True   * U\n",
      "    verbose                            False   * d\n",
      "  End options\n",
      "\n",
      "  Statistics\n",
      "    Number of records                  24420\n",
      "    Number of variables                   15\n",
      "    Target type                       binary\n",
      "\n",
      "    Number of numerical                    7\n",
      "    Number of categorical                  8\n",
      "    Number of selected                    15\n",
      "\n",
      "  Timing\n",
      "    Total time                          0.68 sec\n",
      "    Binning process                     0.53 sec   ( 79.17%)\n",
      "    Estimator                           0.06 sec   (  8.39%)\n",
      "    Build scorecard                     0.08 sec   ( 12.13%)\n",
      "      rounding                          0.05 sec   ( 64.07%)\n",
      "\n"
     ]
    }
   ],
   "source": [
    "scorecard.information(print_level=2)"
   ]
  },
  {
   "cell_type": "code",
   "execution_count": 6,
   "metadata": {},
   "outputs": [],
   "source": [
    "results = scorecard.table(style=\"detailed\")\n",
    "resultssum = scorecard.table(style=\"summary\")\n",
    "resultssum.to_csv(\"resultssum.csv\")"
   ]
  },
  {
   "cell_type": "code",
   "execution_count": 7,
   "metadata": {},
   "outputs": [
    {
     "data": {
      "image/png": "[encoded data removed]",
      "text/plain": [
       "<Figure size 432x288 with 1 Axes>"
      ]
     },
     "metadata": {
      "needs_background": "light"
     },
     "output_type": "display_data"
    }
   ],
   "source": [
    "##Get AUC on test\n",
    "y_pred = scorecard.predict_proba(X_test)[:, 1]\n",
    "plot_auc_roc(y_test, y_pred)"
   ]
  },
  {
   "cell_type": "code",
   "execution_count": 10,
   "metadata": {},
   "outputs": [
    {
     "data": {
      "image/png": "[encoded data removed]",
      "text/plain": [
       "<Figure size 432x288 with 1 Axes>"
      ]
     },
     "metadata": {
      "needs_background": "light"
     },
     "output_type": "display_data"
    }
   ],
   "source": [
    "##Print score distribution\n",
    "score = scorecard.score(df)\n",
    "mask = target == 0\n",
    "plt.hist(score[mask], label=\"Low Income\", color=\"b\", alpha=0.35)\n",
    "plt.hist(score[~mask], label=\"High Income\", color=\"r\", alpha=0.35)\n",
    "plt.xlabel(\"score\")\n",
    "plt.legend()\n",
    "plt.show()\n"
   ]
  }
 ],
 "metadata": {
  "interpreter": {
   "hash": "5ea49323905af4ecb81aabfd60de4bf843e45587448555f675fcf96e83f397c1"
  },
  "kernelspec": {
   "display_name": "Python 3.8.12 64-bit ('py38': conda)",
   "name": "python3"
  },
  "language_info": {
   "codemirror_mode": {
    "name": "ipython",
    "version": 3
   },
   "file_extension": ".py",
   "mimetype": "text/x-python",
   "name": "python",
   "nbconvert_exporter": "python",
   "pygments_lexer": "ipython3",
   "version": "3.8.12"
  },
  "orig_nbformat": 4
 },
 "nbformat": 4,
 "nbformat_minor": 2
}

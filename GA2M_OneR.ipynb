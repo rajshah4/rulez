{
 "cells": [
  {
   "cell_type": "markdown",
   "metadata": {},
   "source": [
    "# Rulefit and AutoML with H2O\n",
    "This notebooks walks through using the Adult dataset with Rulefit and H2O AutoML"
   ]
  },
  {
   "cell_type": "code",
   "execution_count": 1,
   "metadata": {
    "pycharm": {
     "is_executing": false
    },
    "scrolled": false
   },
   "outputs": [],
   "source": [
    "#% load_ext autoreload\n",
    "#% autoreload 2\n",
    "#import os\n",
    "\n",
    "#import matplotlib.pyplot as plt\n",
    "import numpy as np\n",
    "import pandas as pd\n",
    "from sklearn.model_selection import train_test_split\n",
    "from sklearn import metrics\n",
    "\n",
    "from imodels import OneRClassifier #pip install imodels\n",
    "\n",
    "import interpret #pip install interpret\n",
    "from interpret.glassbox import ExplainableBoostingClassifier\n",
    "from interpret import show\n",
    "\n",
    "from sklearn.compose import ColumnTransformer\n",
    "from sklearn.pipeline import Pipeline\n",
    "from sklearn.impute import SimpleImputer\n",
    "from sklearn.preprocessing import StandardScaler, OneHotEncoder,OrdinalEncoder"
   ]
  },
  {
   "cell_type": "markdown",
   "metadata": {},
   "source": [
    "## Download dataset and create splits"
   ]
  },
  {
   "cell_type": "code",
   "execution_count": 7,
   "metadata": {},
   "outputs": [],
   "source": [
    "#!wget https://archive.ics.uci.edu/ml/machine-learning-databases/adult/adult.data\n",
    "names = ['age', 'workclass', 'fnlwgt', 'education', 'education_num', \n",
    "                 'marital_status', 'occupation', 'relationship', 'race', 'sex', \n",
    "                 'capital_gain', 'capital_loss', 'hours_per_week', \n",
    "                 'native_country', 'income']\n",
    "\n",
    "df = pd.read_csv('adult.data', header=None, names=names, na_values=['?', ' ?'])\n",
    "#create a binary target\n",
    "df['income_label'] = (df[\"income\"].apply(lambda x: \">50K\" in x)).astype(int)\n",
    "df.drop('income', axis=1, inplace=True)\n",
    "\n",
    "target_col = 'income_label'\n",
    "target = df[target_col].values\n",
    "\n",
    "X_train, X_test, y_train, y_test = train_test_split(df, target, test_size=0.25,random_state=1)"
   ]
  },
  {
   "cell_type": "code",
   "execution_count": 7,
   "metadata": {},
   "outputs": [],
   "source": [
    "categorical_features = ['education', 'relationship' , 'workclass' , 'occupation' , 'marital_status','race']\n",
    "categorical_transformer = Pipeline(steps=[\n",
    "    ('imputer', SimpleImputer(strategy='constant', fill_value='missing')),\n",
    "    ('encoder', OrdinalEncoder())\n",
    "    ])\n",
    "\n",
    "numeric_features = ['age','hours_per_week','capital_gain','capital_loss','education_num','fnlwgt']\n",
    "numeric_transformer = Pipeline(steps=[\n",
    "    ('imputer', SimpleImputer(strategy='median'))\n",
    "    ])\n",
    "\n",
    "preprocessor = ColumnTransformer(\n",
    "    transformers=[\n",
    "        ('num', numeric_transformer, numeric_features),\n",
    "        ('cat', categorical_transformer, categorical_features)],sparse_threshold=0.0)"
   ]
  },
  {
   "cell_type": "markdown",
   "metadata": {},
   "source": [
    "## OneR Model\n",
    "Build a OneR Model.  The top feature is feature2 (capital_gain).  The performance of this model is not that great with even one feature (0.59 AUC)"
   ]
  },
  {
   "cell_type": "code",
   "execution_count": 8,
   "metadata": {},
   "outputs": [
    {
     "data": {
      "text/plain": [
       "Pipeline(steps=[('preprocessor',\n",
       "                 ColumnTransformer(sparse_threshold=0.0,\n",
       "                                   transformers=[('num',\n",
       "                                                  Pipeline(steps=[('imputer',\n",
       "                                                                   SimpleImputer(strategy='median'))]),\n",
       "                                                  ['age', 'hours_per_week',\n",
       "                                                   'capital_gain',\n",
       "                                                   'capital_loss',\n",
       "                                                   'education_num', 'fnlwgt']),\n",
       "                                                 ('cat',\n",
       "                                                  Pipeline(steps=[('imputer',\n",
       "                                                                   SimpleImputer(fill_value='missing',\n",
       "                                                                                 strategy='constant')),\n",
       "                                                                  ('encoder',\n",
       "                                                                   OrdinalEncoder())]),\n",
       "                                                  ['education', 'relationship',\n",
       "                                                   'workclass', 'occupation',\n",
       "                                                   'marital_status',\n",
       "                                                   'race'])])),\n",
       "                ('classifier', OneRClassifier())])"
      ]
     },
     "execution_count": 8,
     "metadata": {},
     "output_type": "execute_result"
    }
   ],
   "source": [
    "oner = Pipeline(steps=[('preprocessor', preprocessor),\n",
    "                      ('classifier', OneRClassifier()) \n",
    "                      ])\n",
    "\n",
    "oner.fit(X_train, y_train)"
   ]
  },
  {
   "cell_type": "code",
   "execution_count": 9,
   "metadata": {},
   "outputs": [
    {
     "data": {
      "text/plain": [
       "[{'col': 'feat 2',\n",
       "  'index_col': 2,\n",
       "  'cutoff': 5178.0,\n",
       "  'val': 0.24582309582309583,\n",
       "  'flip': False,\n",
       "  'val_right': 0.9537953795379538,\n",
       "  'num_pts': 24420,\n",
       "  'num_pts_right': 1212},\n",
       " {'col': 'feat 0',\n",
       "  'index_col': 2,\n",
       "  'cutoff': 4386.0,\n",
       "  'val': 0.2088503964150293,\n",
       "  'flip': False,\n",
       "  'val_right': 0.3804878048780488,\n",
       "  'num_pts': 23208,\n",
       "  'num_pts_right': 205},\n",
       " {'col': 'feat 0',\n",
       "  'index_col': 2,\n",
       "  'cutoff': 3137.0,\n",
       "  'val': 0.20732078424553319,\n",
       "  'flip': True,\n",
       "  'val_right': 0.20944224857268334,\n",
       "  'num_pts': 23003,\n",
       "  'num_pts_right': 22770},\n",
       " {'val': 0, 'num_pts': 233}]"
      ]
     },
     "execution_count": 9,
     "metadata": {},
     "output_type": "execute_result"
    }
   ],
   "source": [
    "oner.named_steps.classifier.rules_"
   ]
  },
  {
   "cell_type": "code",
   "execution_count": 10,
   "metadata": {},
   "outputs": [
    {
     "name": "stdout",
     "output_type": "stream",
     "text": [
      "test AUC: 0.59\n"
     ]
    }
   ],
   "source": [
    "preds = oner.predict(X_test)\n",
    "fpr, tpr, thresholds = metrics.roc_curve(y_test, preds)\n",
    "print(f'test AUC: {metrics.auc(fpr,tpr):0.2f}')"
   ]
  },
  {
   "cell_type": "markdown",
   "metadata": {},
   "source": [
    "## GA2M\n",
    "A special type of GAM tht includes interactions is the GA2M.  It is available in the interpretml package."
   ]
  },
  {
   "cell_type": "code",
   "execution_count": 8,
   "metadata": {},
   "outputs": [],
   "source": [
    "df = pd.read_csv('adult.data', header=None, names=names)\n",
    "\n",
    "df['income_label'] = (df[\"income\"].apply(lambda x: \">50K\" in x)).astype(int)\n",
    "df.drop('income', axis=1, inplace=True)\n",
    "target = df['income_label'].values\n",
    "train_cols = df.columns[0:-1]\n",
    "\n",
    "X_train, X_test, y_train, y_test = train_test_split(df[train_cols], target, test_size=0.25,random_state=1)"
   ]
  },
  {
   "cell_type": "code",
   "execution_count": 10,
   "metadata": {},
   "outputs": [
    {
     "data": {
      "text/plain": [
       "ExplainableBoostingClassifier(feature_names=['age', 'workclass', 'fnlwgt',\n",
       "                                             'education', 'education_num',\n",
       "                                             'marital_status', 'occupation',\n",
       "                                             'relationship', 'race', 'sex',\n",
       "                                             'capital_gain', 'capital_loss',\n",
       "                                             'hours_per_week', 'native_country',\n",
       "                                             'relationship x hours_per_week',\n",
       "                                             'age x relationship',\n",
       "                                             'marital_status x hours_per_week',\n",
       "                                             'education_num x occupation',\n",
       "                                             'age x capital_loss',\n",
       "                                             '...\n",
       "                                             'education_num x marital_status'],\n",
       "                              feature_types=['continuous', 'categorical',\n",
       "                                             'continuous', 'categorical',\n",
       "                                             'continuous', 'categorical',\n",
       "                                             'categorical', 'categorical',\n",
       "                                             'categorical', 'categorical',\n",
       "                                             'continuous', 'continuous',\n",
       "                                             'continuous', 'categorical',\n",
       "                                             'interaction', 'interaction',\n",
       "                                             'interaction', 'interaction',\n",
       "                                             'interaction', 'interaction',\n",
       "                                             'interaction', 'interaction',\n",
       "                                             'interaction', 'interaction'])"
      ]
     },
     "execution_count": 10,
     "metadata": {},
     "output_type": "execute_result"
    }
   ],
   "source": [
    "ebm = ExplainableBoostingClassifier(random_state=42)\n",
    "ebm.fit(X_train, y_train)"
   ]
  },
  {
   "cell_type": "code",
   "execution_count": 11,
   "metadata": {},
   "outputs": [
    {
     "name": "stdout",
     "output_type": "stream",
     "text": [
      "test r2: 0.28\n",
      "test AUC: 0.93\n"
     ]
    }
   ],
   "source": [
    "preds = ebm.predict_proba(X_test)\n",
    "print(f'test r2: {metrics.log_loss(y_test, preds[:,1]):0.2f}')\n",
    "fpr, tpr, thresholds = metrics.roc_curve(y_test, preds[:,1])\n",
    "print(f'test AUC: {metrics.auc(fpr,tpr):0.2f}')"
   ]
  },
  {
   "cell_type": "code",
   "execution_count": 14,
   "metadata": {},
   "outputs": [
    {
     "name": "stderr",
     "output_type": "stream",
     "text": [
      "/Users/rajiv.shah/opt/anaconda3/envs/py38/lib/python3.8/site-packages/interpret/visual/udash.py:5: UserWarning: \n",
      "The dash_html_components package is deprecated. Please replace\n",
      "`import dash_html_components as html` with `from dash import html`\n",
      "  import dash_html_components as html\n",
      "/Users/rajiv.shah/opt/anaconda3/envs/py38/lib/python3.8/site-packages/interpret/visual/udash.py:6: UserWarning: \n",
      "The dash_core_components package is deprecated. Please replace\n",
      "`import dash_core_components as dcc` with `from dash import dcc`\n",
      "  import dash_core_components as dcc\n",
      "/Users/rajiv.shah/opt/anaconda3/envs/py38/lib/python3.8/site-packages/interpret/visual/udash.py:7: UserWarning: \n",
      "The dash_table package is deprecated. Please replace\n",
      "`import dash_table` with `from dash import dash_table`\n",
      "\n",
      "Also, if you're using any of the table format helpers (e.g. Group), replace \n",
      "`from dash_table.Format import Group` with \n",
      "`from dash.dash_table.Format import Group`\n",
      "  import dash_table as dt\n"
     ]
    },
    {
     "data": {
      "text/html": [
       "<!-- http://127.0.0.1:7001/140250565902544/ -->\n",
       "<iframe src=\"http://127.0.0.1:7001/140250565902544/\" width=100% height=800 frameBorder=\"0\"></iframe>"
      ]
     },
     "metadata": {},
     "output_type": "display_data"
    }
   ],
   "source": [
    "ebm_global = ebm.explain_global()\n",
    "show(ebm_global)"
   ]
  },
  {
   "cell_type": "code",
   "execution_count": 15,
   "metadata": {},
   "outputs": [
    {
     "name": "stdout",
     "output_type": "stream",
     "text": [
      "age: -1.7184664917712695\n",
      "workclass: 0.05813984463003678\n",
      "fnlwgt: 0.1306403653992196\n",
      "education: -0.879301602747939\n",
      "education_num: -0.3127480114354104\n",
      "marital_status: -0.7128669177094049\n",
      "occupation: -0.8536759910015794\n",
      "relationship: -0.5714548266035924\n",
      "race: 0.030982823570150864\n",
      "sex: 0.2702053132277903\n",
      "capital_gain: -0.24022631319118096\n",
      "capital_loss: -0.047991786627382196\n",
      "hours_per_week: -0.8893505582985164\n",
      "native_country: 0.03957421387315183\n",
      "relationship x hours_per_week: -0.10969191332215959\n",
      "age x relationship: -0.013637908291421637\n",
      "marital_status x hours_per_week: -0.04382030697349104\n",
      "education_num x occupation: -0.025409571607263988\n",
      "age x capital_loss: -0.13477522664260733\n",
      "occupation x hours_per_week: -0.000589903201990215\n",
      "relationship x capital_loss: 0.003866242275338318\n",
      "occupation x relationship: 0.012376666049370589\n",
      "workclass x race: 0.004478780967675712\n",
      "education_num x marital_status: -0.03602698641040848\n"
     ]
    }
   ],
   "source": [
    "local_coefs = ebm.explain_local(X_test).data(1) # Local explanation for 0th datapoint on X_test\n",
    "for feat_name, coef in zip(local_coefs['names'], local_coefs['scores']):\n",
    "    print(f\"{feat_name}: {coef}\")"
   ]
  }
 ],
 "metadata": {
  "interpreter": {
   "hash": "5ea49323905af4ecb81aabfd60de4bf843e45587448555f675fcf96e83f397c1"
  },
  "jupytext": {
   "formats": "ipynb,../tests/notebooks//py:percent"
  },
  "kernelspec": {
   "display_name": "Python 3.8.12 64-bit ('py38': conda)",
   "name": "python3"
  },
  "language_info": {
   "codemirror_mode": {
    "name": "ipython",
    "version": 3
   },
   "file_extension": ".py",
   "mimetype": "text/x-python",
   "name": "python",
   "nbconvert_exporter": "python",
   "pygments_lexer": "ipython3",
   "version": "3.8.12"
  }
 },
 "nbformat": 4,
 "nbformat_minor": 4
}
